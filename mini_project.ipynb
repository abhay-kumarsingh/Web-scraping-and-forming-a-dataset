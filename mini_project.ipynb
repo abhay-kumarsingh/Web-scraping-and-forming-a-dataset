{
 "cells": [
  {
   "cell_type": "code",
   "execution_count": null,
   "id": "e4283dca",
   "metadata": {},
   "outputs": [],
   "source": [
    "import pandas as pd\n",
    "import requests\n",
    "from bs4 import BeautifulSoup"
   ]
  },
  {
   "cell_type": "code",
   "execution_count": null,
   "id": "9afd97bf",
   "metadata": {},
   "outputs": [],
   "source": [
    "url=\"https://finance.yahoo.com/etfs?offset=0&count=100\""
   ]
  },
  {
   "cell_type": "code",
   "execution_count": null,
   "id": "871e8580-a6b3-4dd7-967d-e0debeffd9b0",
   "metadata": {},
   "outputs": [],
   "source": [
    "r=requests.get(url)"
   ]
  },
  {
   "cell_type": "code",
   "execution_count": null,
   "id": "53367f94-1f5c-439e-a272-b80f0f34d224",
   "metadata": {},
   "outputs": [],
   "source": [
    "htmlcontent=r.content"
   ]
  },
  {
   "cell_type": "code",
   "execution_count": null,
   "id": "63debcb5-baf9-48c5-8ef0-12af95c7753e",
   "metadata": {},
   "outputs": [],
   "source": [
    "soup=BeautifulSoup(htmlcontent,'html.parser')"
   ]
  },
  {
   "cell_type": "code",
   "execution_count": null,
   "id": "45e844f3-55ae-4d8c-bf62-7a1993425a0a",
   "metadata": {},
   "outputs": [],
   "source": [
    "#soup.prettify"
   ]
  },
  {
   "cell_type": "code",
   "execution_count": null,
   "id": "de75d623-6040-4011-a893-0313424a16c3",
   "metadata": {},
   "outputs": [],
   "source": [
    "soup.find_all('td',class_=\"Va(m) Ta(start) Px(10px) Fz(s)\")"
   ]
  },
  {
   "cell_type": "code",
   "execution_count": null,
   "id": "0c214a41-5177-4860-8041-830e771a6c90",
   "metadata": {},
   "outputs": [],
   "source": [
    "#<td colspan=\"\" class=\"Va(m) Ta(start) Px(10px) Fz(s)\" aria-label=\"Name\">Optimism USD/td>"
   ]
  },
  {
   "cell_type": "code",
   "execution_count": null,
   "id": "aabaad81-175b-41a2-af3a-2bde8bf869ce",
   "metadata": {},
   "outputs": [],
   "source": [
    "name=[]\n",
    "for i in (soup.find_all('td',class_=\"Va(m) Ta(start) Px(10px) Fz(s)\")):\n",
    "    name.append(i.text)"
   ]
  },
  {
   "cell_type": "code",
   "execution_count": null,
   "id": "218f25a1-e4f6-4271-b55c-a5416b0c370b",
   "metadata": {},
   "outputs": [],
   "source": [
    "price=[]\n",
    "reprice=[]\n",
    "change=[]\n",
    "change_in_per=[]\n",
    "\n",
    "for i in soup.find_all(\"td\", class_=\"Va(m) Ta(end) Pstart(20px) Fw(600) Fz(s)\"):\n",
    "   reprice.append(i.text)\n"
   ]
  },
  {
   "cell_type": "code",
   "execution_count": null,
   "id": "7721dcda-88c0-4041-b1ab-a6274f68551e",
   "metadata": {},
   "outputs": [],
   "source": [
    "len(reprice)"
   ]
  },
  {
   "cell_type": "code",
   "execution_count": null,
   "id": "9b9de012-400c-472a-bf02-b27698a24f9c",
   "metadata": {},
   "outputs": [],
   "source": [
    "price=reprice[: :3]"
   ]
  },
  {
   "cell_type": "code",
   "execution_count": null,
   "id": "766b9b69-2a82-4ea8-8bbc-e654e14fc43a",
   "metadata": {},
   "outputs": [],
   "source": [
    "price"
   ]
  },
  {
   "cell_type": "code",
   "execution_count": null,
   "id": "212e791e-c722-41e4-859b-d6d39daf3cff",
   "metadata": {},
   "outputs": [],
   "source": [
    "change=reprice[1: :3]"
   ]
  },
  {
   "cell_type": "code",
   "execution_count": null,
   "id": "b2832517-7dec-4452-8a56-be87ba4318f0",
   "metadata": {},
   "outputs": [],
   "source": [
    "change"
   ]
  },
  {
   "cell_type": "code",
   "execution_count": null,
   "id": "f5a98ec9-7a85-458f-976f-94aa2706cc65",
   "metadata": {},
   "outputs": [],
   "source": [
    "change_in_per=reprice[2: :3]"
   ]
  },
  {
   "cell_type": "code",
   "execution_count": null,
   "id": "4dd7ceba-e2ff-488b-be9d-663d5a825581",
   "metadata": {},
   "outputs": [],
   "source": [
    "change_in_per"
   ]
  },
  {
   "cell_type": "code",
   "execution_count": null,
   "id": "d9ba48a9-3123-423a-bc49-a1d22a144d60",
   "metadata": {},
   "outputs": [],
   "source": [
    "revolume=[]\n",
    "for i in soup.find_all('td',class_=\"Va(m) Ta(end) Pstart(20px) Fz(s)\"):\n",
    "    revolume.append(i.text)"
   ]
  },
  {
   "cell_type": "code",
   "execution_count": null,
   "id": "cd8e28b4-c237-4946-a31f-51df3edfe4cd",
   "metadata": {},
   "outputs": [],
   "source": [
    "volume=revolume[: :3]"
   ]
  },
  {
   "cell_type": "code",
   "execution_count": null,
   "id": "48e0b0b6-7934-465d-adcc-6ef39cd584e0",
   "metadata": {},
   "outputs": [],
   "source": [
    "volume"
   ]
  },
  {
   "cell_type": "code",
   "execution_count": null,
   "id": "8ab8d400-36c5-47fe-b878-c2084a33c57f",
   "metadata": {},
   "outputs": [],
   "source": [
    "avg=[]\n",
    "avg=revolume[1: :3]"
   ]
  },
  {
   "cell_type": "code",
   "execution_count": null,
   "id": "fc355f50-e0b9-4138-8355-ebece99e1a07",
   "metadata": {},
   "outputs": [],
   "source": [
    "avg"
   ]
  },
  {
   "cell_type": "code",
   "execution_count": null,
   "id": "25a4c28b-c240-434d-b071-6a9835063b39",
   "metadata": {},
   "outputs": [],
   "source": [
    "avgg=[]\n",
    "\n",
    "for i in soup.find_all('td',class_=\"Va(m) Ta(end) Pstart(20px) Pend(10px) W(120px) Fz(s)\"):\n",
    "    avgg.append(i.text)"
   ]
  },
  {
   "cell_type": "code",
   "execution_count": null,
   "id": "3464a9a7-0cf5-4551-baf7-e0fde00b3172",
   "metadata": {},
   "outputs": [],
   "source": [
    "avgg"
   ]
  },
  {
   "cell_type": "code",
   "execution_count": null,
   "id": "babc74f6-4fe3-441f-acae-adbb4035fe92",
   "metadata": {},
   "outputs": [],
   "source": [
    "symbol=[]\n",
    "for i in soup.find_all('a', class_=\"Fw(600) C($linkColor)\"):\n",
    "    symbol.append(i.text)"
   ]
  },
  {
   "cell_type": "code",
   "execution_count": null,
   "id": "a915de37-af80-4042-8412-36139c979068",
   "metadata": {},
   "outputs": [],
   "source": [
    "symbol"
   ]
  },
  {
   "cell_type": "code",
   "execution_count": null,
   "id": "31b30521-4d66-4c84-92d1-4beb5adf336e",
   "metadata": {},
   "outputs": [],
   "source": [
    "d={'Name':name,'Symbol':symbol,'Price':price,'Change':change,'Change_in_%':change_in_per,'Volume':volume,'50_day_avg':avg,'200_day_avg':avgg}"
   ]
  },
  {
   "cell_type": "code",
   "execution_count": null,
   "id": "9e8aa980-573a-4e20-828c-e21cd7e295cf",
   "metadata": {},
   "outputs": [],
   "source": [
    "df=pd.DataFrame(d)"
   ]
  },
  {
   "cell_type": "code",
   "execution_count": null,
   "id": "c89f3ff9-369d-4314-84b5-8d772f470443",
   "metadata": {},
   "outputs": [],
   "source": [
    "df"
   ]
  },
  {
   "cell_type": "code",
   "execution_count": null,
   "id": "75d5b4ce-e3e1-45ec-8197-6d1fddb217a2",
   "metadata": {},
   "outputs": [],
   "source": [
    "df.to_excel(\"C:\\\\Users\\\\ABHAY\\\\Desktop\\\\topetf's.xlsx\")"
   ]
  },
  {
   "cell_type": "code",
   "execution_count": null,
   "id": "658c1e54",
   "metadata": {},
   "outputs": [],
   "source": []
  }
 ],
 "metadata": {
  "kernelspec": {
   "display_name": "Python 3 (ipykernel)",
   "language": "python",
   "name": "python3"
  },
  "language_info": {
   "codemirror_mode": {
    "name": "ipython",
    "version": 3
   },
   "file_extension": ".py",
   "mimetype": "text/x-python",
   "name": "python",
   "nbconvert_exporter": "python",
   "pygments_lexer": "ipython3",
   "version": "3.9.12"
  }
 },
 "nbformat": 4,
 "nbformat_minor": 5
}
